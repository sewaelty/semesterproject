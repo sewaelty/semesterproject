{
 "cells": [
  {
   "cell_type": "code",
   "execution_count": 1,
   "id": "a64db58c",
   "metadata": {},
   "outputs": [],
   "source": [
    "import sys\n",
    "import os\n",
    "import pandas as pd\n",
    "import geopandas as gpd\n",
    "import numpy as np\n",
    "import matplotlib.pyplot as plt\n",
    "import seaborn as sns\n",
    "\n",
    "from helper_functions import data_reader"
   ]
  },
  {
   "cell_type": "code",
   "execution_count": 2,
   "id": "60be052c",
   "metadata": {},
   "outputs": [],
   "source": [
    "# load all relevant data\n",
    "df_CF = data_reader.getCFs()\n",
    "df_ecoregions = data_reader.getEcoregions()\n",
    "df_miningPolygons = data_reader.getMiningPolygons()\n",
    "df_miningFacilities = data_reader.getMiningFacilities()\n",
    "df_miningMinerals = data_reader.getMiningMinerals()\n",
    "df_miningCommodities = data_reader.getMiningCommodities()\n",
    "df_miningSourceIDs = data_reader.getSourceIDs()\n",
    "df_miningMaterialIDs = data_reader.getMaterialIDs()"
   ]
  },
  {
   "cell_type": "code",
   "execution_count": null,
   "id": "88a2279b",
   "metadata": {},
   "outputs": [],
   "source": []
  }
 ],
 "metadata": {
  "kernelspec": {
   "display_name": "base",
   "language": "python",
   "name": "python3"
  },
  "language_info": {
   "codemirror_mode": {
    "name": "ipython",
    "version": 3
   },
   "file_extension": ".py",
   "mimetype": "text/x-python",
   "name": "python",
   "nbconvert_exporter": "python",
   "pygments_lexer": "ipython3",
   "version": "3.12.7"
  }
 },
 "nbformat": 4,
 "nbformat_minor": 5
}
